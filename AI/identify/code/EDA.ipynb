{
 "cells": [
  {
   "cell_type": "code",
   "execution_count": null,
   "metadata": {},
   "outputs": [],
   "source": [
    "import numpy as np # linear algebra\n",
    "import pandas as pd # data processing, CSV file I/O (e.g. pd.read_csv)\n",
    "import matplotlib.pyplot as plt\n",
    "import seaborn as sns\n",
    "import json\n",
    "import csv\n",
    "from pandas import DataFrame\n",
    "import torchvision\n",
    "import torchvision.transforms as transforms\n",
    "import torch\n",
    "import torch.nn as nn\n",
    "import torch.nn.functional as F\n",
    "from PIL import Image\n",
    "from torchsummary import summary\n",
    "import utils\n",
    "%matplotlib inline \n",
    "import matplotlib\n",
    "matplotlib.rcParams[u'font.sans-serif'] = ['simhei']\n",
    "matplotlib.rcParams['axes.unicode_minus'] = False\n",
    "\n",
    "with open(\"../data/AgriculturalDisease_trainingset/AgriculturalDisease_train_annotations.json\") as datafile1:\n",
    "    trainDataFram=pd.read_json(datafile1,orient='records')\n",
    "with open(\"../data/AgriculturalDisease_validationset/AgriculturalDisease_validation_annotations.json\") as datafile2: #first check if it's a valid json file or not\n",
    "    validateDataFram =pd.read_json(datafile2,orient='records')  \n",
    "    \n"
   ]
  },
  {
   "cell_type": "code",
   "execution_count": null,
   "metadata": {},
   "outputs": [],
   "source": [
    "total=trainDataFram.isnull().sum().sort_values(ascending=False)\n",
    "percent=(trainDataFram.isnull().sum())/(trainDataFram.isnull().count()).sort_values(ascending = False)\n",
    "missing_validation_data = pd.concat([total, percent], axis=1, keys=['Total', 'Percent'],sort=False)\n",
    "missing_validation_data.head()"
   ]
  },
  {
   "cell_type": "code",
   "execution_count": null,
   "metadata": {},
   "outputs": [],
   "source": [
    "dataDistribute=trainDataFram.groupby(by=['disease_class']).size()\n",
    "plt.figure(figsize=(50,20),dpi=100)\n",
    "plt.xticks(range(len(dataDistribute)),dataDistribution.index.tolist(),fontsize=40)\n",
    "plt.yticks(fontsize=40)\n",
    "bar=plt.bar(dataDistribution.index.tolist(), dataDistribute.tolist(),width=0.7)\n",
    " \n",
    "for b in bar:\n",
    "    h=b.get_height()\n",
    "    plt.text(b.get_x()+b.get_width()/2,h,int(h),ha='center',fontsize=30)\n",
    "plt.show()"
   ]
  },
  {
   "cell_type": "code",
   "execution_count": null,
   "metadata": {},
   "outputs": [],
   "source": [
    "trainDataFram['disease_class'].value_counts().plot(kind='bar',figsize=(60,30),fontsize =60,title=\"Number of Training Examples Versus Class\").title.set_size(80)"
   ]
  },
  {
   "cell_type": "code",
   "execution_count": null,
   "metadata": {},
   "outputs": [],
   "source": [
    "dataDistribute=trainDataFram['disease_class'].value_counts()\n",
    "plt.figure(figsize=(50,20),dpi=100)\n",
    "plt.xticks(range(len(dataDistribute)),dataDistribute.index.tolist(),fontsize=40) #第一个参数是在哪些位置需要放置坐标值  第二个参数是放置的坐标值大小\n",
    "plt.yticks(fontsize=40)\n",
    "bar=plt.bar(range(len(dataDistribute)),dataDistribute.tolist(),width=0.6)\n",
    "for b in bar:\n",
    "    h=b.get_height()\n",
    "    plt.text(b.get_x()+b.get_width()/2,h,int(h),ha='center',fontsize=25)\n",
    "plt.show()"
   ]
  },
  {
   "cell_type": "code",
   "execution_count": null,
   "metadata": {},
   "outputs": [],
   "source": [
    "f,(ax0,ax1)=plt.subplots(1,2,sharey=True,figsize=(15,5))\n",
    "ax0.hist(trainDataFram['disease_class'].value_counts())\n",
    "ax0.set_xlabel(\"# images per class\")\n",
    "ax0.set_ylabel(\"# classes\")\n",
    "ax0.set_title('Class distribution for Train')\n",
    "\n",
    "ax1.hist(validateDataFram['disease_class'].value_counts())\n",
    "ax1.set_xlabel(\"# images per class\")\n",
    "ax1.set_title('Class distribution for Validation')"
   ]
  }
 ],
 "metadata": {
  "kernelspec": {
   "display_name": "Python [conda env:Conda_Env_Pytorch]",
   "language": "python",
   "name": "conda-env-Conda_Env_Pytorch-py"
  },
  "language_info": {
   "codemirror_mode": {
    "name": "ipython",
    "version": 3
   },
   "file_extension": ".py",
   "mimetype": "text/x-python",
   "name": "python",
   "nbconvert_exporter": "python",
   "pygments_lexer": "ipython3",
   "version": "3.6.6"
  }
 },
 "nbformat": 4,
 "nbformat_minor": 2
}
